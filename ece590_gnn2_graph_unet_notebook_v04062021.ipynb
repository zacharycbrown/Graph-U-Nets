{
  "nbformat": 4,
  "nbformat_minor": 0,
  "metadata": {
    "colab": {
      "name": "ece590_gnn2_graph_unet_notebook_v04062021.ipynb",
      "provenance": [],
      "collapsed_sections": []
    },
    "kernelspec": {
      "name": "python3",
      "display_name": "Python 3"
    },
    "language_info": {
      "name": "python"
    }
  },
  "cells": [
    {
      "cell_type": "code",
      "metadata": {
        "colab": {
          "base_uri": "https://localhost:8080/"
        },
        "id": "jSO4PgkPDWQk",
        "outputId": "7d3f0552-7521-4287-c62d-174b1097aeb1"
      },
      "source": [
        "!git clone https://github.com/zacharycbrown/Graph-U-Nets.git"
      ],
      "execution_count": 1,
      "outputs": [
        {
          "output_type": "stream",
          "text": [
            "Cloning into 'Graph-U-Nets'...\n",
            "remote: Enumerating objects: 55, done.\u001b[K\n",
            "remote: Counting objects: 100% (55/55), done.\u001b[K\n",
            "remote: Compressing objects: 100% (42/42), done.\u001b[K\n",
            "remote: Total 418 (delta 11), reused 33 (delta 3), pack-reused 363\u001b[K\n",
            "Receiving objects: 100% (418/418), 84.73 MiB | 23.56 MiB/s, done.\n",
            "Resolving deltas: 100% (33/33), done.\n",
            "Checking out files: 100% (31/31), done.\n"
          ],
          "name": "stdout"
        }
      ]
    },
    {
      "cell_type": "code",
      "metadata": {
        "colab": {
          "base_uri": "https://localhost:8080/"
        },
        "id": "gYMaiUIODsGO",
        "outputId": "dd6d3d97-9500-457e-b398-e308f5cdd3d6"
      },
      "source": [
        "!./\"Graph-U-Nets\"/run_GNN.sh"
      ],
      "execution_count": null,
      "outputs": [
        {
          "output_type": "stream",
          "text": [
            "Namespace(acc_file='results/DD.txt', act_c='ELU', act_n='ELU', batch=32, data='DD', deg_as_tag=0, drop_c=0.3, drop_n=0.3, fold=1, h_dim=512, ks=[0.9, 0.8, 0.7], l_dim=128, l_num=3, lr=0.001, num_epochs=200, seed=1)\n",
            "loading data ...\n",
            "Create graph: 100% 1178/1178 [00:04<00:00, 248.42graphs/s]\n",
            "Process graph: 100% 1178/1178 [00:02<00:00, 431.95graphs/s]\n",
            "# classes: 2 # maximum node tag: 82\n",
            "load data using ------> 7.534821033477783\n",
            "start training ------> fold 1\n",
            "#train: 1060, #test: 118\n",
            "0: 100% 34/34 [00:35<00:00,  1.05s/b]\n",
            "Train epoch 0: loss 3.33460 acc 0.60377\n",
            "0: 100% 4/4 [00:01<00:00,  3.79b/s]\n",
            "Test epoch 0: loss 0.68899 acc 0.75424 max 0.75424\n",
            "1: 100% 34/34 [00:35<00:00,  1.05s/b]\n",
            "Train epoch 1: loss 1.24694 acc 0.69623\n",
            "1: 100% 4/4 [00:01<00:00,  3.75b/s]\n",
            "Test epoch 1: loss 0.53669 acc 0.77966 max 0.77966\n",
            "2: 100% 34/34 [00:41<00:00,  1.22s/b]\n",
            "Train epoch 2: loss 0.89714 acc 0.68774\n",
            "2: 100% 4/4 [00:01<00:00,  3.72b/s]\n",
            "Test epoch 2: loss 0.44702 acc 0.79661 max 0.79661\n",
            "3: 100% 34/34 [00:33<00:00,  1.01b/s]\n",
            "Train epoch 3: loss 0.70641 acc 0.72170\n",
            "3: 100% 4/4 [00:01<00:00,  3.81b/s]\n",
            "Test epoch 3: loss 0.41399 acc 0.76271 max 0.79661\n",
            "4: 100% 34/34 [00:33<00:00,  1.01b/s]\n",
            "Train epoch 4: loss 0.64530 acc 0.71604\n",
            "4: 100% 4/4 [00:01<00:00,  3.81b/s]\n",
            "Test epoch 4: loss 0.43318 acc 0.82203 max 0.82203\n",
            "5: 100% 34/34 [00:33<00:00,  1.02b/s]\n",
            "Train epoch 5: loss 0.62501 acc 0.73585\n",
            "5: 100% 4/4 [00:01<00:00,  3.68b/s]\n",
            "Test epoch 5: loss 0.48714 acc 0.77119 max 0.82203\n",
            "6: 100% 34/34 [00:34<00:00,  1.01s/b]\n",
            "Train epoch 6: loss 0.71534 acc 0.72170\n",
            "6: 100% 4/4 [00:01<00:00,  3.77b/s]\n",
            "Test epoch 6: loss 0.52398 acc 0.79661 max 0.82203\n",
            "7: 100% 34/34 [00:33<00:00,  1.01b/s]\n",
            "Train epoch 7: loss 0.62508 acc 0.71604\n",
            "7: 100% 4/4 [00:01<00:00,  3.74b/s]\n",
            "Test epoch 7: loss 0.80691 acc 0.69492 max 0.82203\n",
            "8: 100% 34/34 [00:33<00:00,  1.01b/s]\n",
            "Train epoch 8: loss 0.61531 acc 0.73019\n",
            "8: 100% 4/4 [00:01<00:00,  3.82b/s]\n",
            "Test epoch 8: loss 0.43355 acc 0.82203 max 0.82203\n",
            "9: 100% 34/34 [00:33<00:00,  1.01b/s]\n",
            "Train epoch 9: loss 0.61320 acc 0.71981\n",
            "9: 100% 4/4 [00:01<00:00,  3.74b/s]\n",
            "Test epoch 9: loss 0.43464 acc 0.78814 max 0.82203\n",
            "10: 100% 34/34 [00:33<00:00,  1.02b/s]\n",
            "Train epoch 10: loss 0.56036 acc 0.73113\n",
            "10: 100% 4/4 [00:01<00:00,  3.75b/s]\n",
            "Test epoch 10: loss 0.74902 acc 0.66102 max 0.82203\n",
            "11: 100% 34/34 [00:33<00:00,  1.02b/s]\n",
            "Train epoch 11: loss 0.59465 acc 0.72642\n",
            "11: 100% 4/4 [00:01<00:00,  3.73b/s]\n",
            "Test epoch 11: loss 0.43291 acc 0.78814 max 0.82203\n",
            "12: 100% 34/34 [00:33<00:00,  1.01b/s]\n",
            "Train epoch 12: loss 0.55062 acc 0.73962\n",
            "12: 100% 4/4 [00:01<00:00,  3.70b/s]\n",
            "Test epoch 12: loss 0.41505 acc 0.84746 max 0.84746\n",
            "13: 100% 34/34 [00:33<00:00,  1.01b/s]\n",
            "Train epoch 13: loss 0.54010 acc 0.73868\n",
            "13: 100% 4/4 [00:01<00:00,  3.73b/s]\n",
            "Test epoch 13: loss 0.44029 acc 0.77119 max 0.84746\n",
            "14: 100% 34/34 [00:33<00:00,  1.02b/s]\n",
            "Train epoch 14: loss 0.56576 acc 0.74057\n",
            "14: 100% 4/4 [00:01<00:00,  3.74b/s]\n",
            "Test epoch 14: loss 0.47774 acc 0.77119 max 0.84746\n",
            "15: 100% 34/34 [00:33<00:00,  1.02b/s]\n",
            "Train epoch 15: loss 0.55791 acc 0.72642\n",
            "15: 100% 4/4 [00:01<00:00,  3.78b/s]\n",
            "Test epoch 15: loss 0.43209 acc 0.78814 max 0.84746\n",
            "16: 100% 34/34 [00:33<00:00,  1.02b/s]\n",
            "Train epoch 16: loss 0.52231 acc 0.74434\n",
            "16: 100% 4/4 [00:01<00:00,  3.73b/s]\n",
            "Test epoch 16: loss 0.43402 acc 0.79661 max 0.84746\n",
            "17: 100% 34/34 [00:33<00:00,  1.02b/s]\n",
            "Train epoch 17: loss 0.49889 acc 0.77547\n",
            "17: 100% 4/4 [00:01<00:00,  3.80b/s]\n",
            "Test epoch 17: loss 0.48232 acc 0.75424 max 0.84746\n",
            "18: 100% 34/34 [00:33<00:00,  1.02b/s]\n",
            "Train epoch 18: loss 0.52859 acc 0.75283\n",
            "18: 100% 4/4 [00:01<00:00,  3.79b/s]\n",
            "Test epoch 18: loss 0.43681 acc 0.76271 max 0.84746\n",
            "19: 100% 34/34 [00:33<00:00,  1.02b/s]\n",
            "Train epoch 19: loss 0.54638 acc 0.74528\n",
            "19: 100% 4/4 [00:01<00:00,  3.74b/s]\n",
            "Test epoch 19: loss 0.39956 acc 0.83051 max 0.84746\n",
            "20: 100% 34/34 [00:33<00:00,  1.01b/s]\n",
            "Train epoch 20: loss 0.51176 acc 0.76321\n",
            "20: 100% 4/4 [00:01<00:00,  3.77b/s]\n",
            "Test epoch 20: loss 0.44796 acc 0.79661 max 0.84746\n",
            "21: 100% 34/34 [00:33<00:00,  1.02b/s]\n",
            "Train epoch 21: loss 0.53602 acc 0.74623\n",
            "21: 100% 4/4 [00:01<00:00,  3.78b/s]\n",
            "Test epoch 21: loss 0.37914 acc 0.79661 max 0.84746\n",
            "22: 100% 34/34 [00:33<00:00,  1.02b/s]\n",
            "Train epoch 22: loss 0.51466 acc 0.74528\n",
            "22: 100% 4/4 [00:01<00:00,  3.74b/s]\n",
            "Test epoch 22: loss 0.44962 acc 0.74576 max 0.84746\n",
            "23: 100% 34/34 [00:33<00:00,  1.02b/s]\n",
            "Train epoch 23: loss 0.52729 acc 0.74245\n",
            "23: 100% 4/4 [00:01<00:00,  3.76b/s]\n",
            "Test epoch 23: loss 0.40677 acc 0.77966 max 0.84746\n",
            "24: 100% 34/34 [00:33<00:00,  1.02b/s]\n",
            "Train epoch 24: loss 0.53139 acc 0.74906\n",
            "24: 100% 4/4 [00:01<00:00,  3.79b/s]\n",
            "Test epoch 24: loss 0.41396 acc 0.78814 max 0.84746\n",
            "25: 100% 34/34 [00:33<00:00,  1.01b/s]\n",
            "Train epoch 25: loss 0.49109 acc 0.76887\n",
            "25: 100% 4/4 [00:01<00:00,  3.70b/s]\n",
            "Test epoch 25: loss 0.38929 acc 0.79661 max 0.84746\n",
            "26:  56% 19/34 [00:16<00:10,  1.39b/s]"
          ],
          "name": "stdout"
        }
      ]
    },
    {
      "cell_type": "code",
      "metadata": {
        "id": "48VmsGnODz5k"
      },
      "source": [
        ""
      ],
      "execution_count": 16,
      "outputs": []
    }
  ]
}